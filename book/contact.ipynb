{
 "cells": [
  {
   "cell_type": "markdown",
   "id": "e97b15ff",
   "metadata": {},
   "source": [
    "(contact)=\n",
    "# Contact"
   ]
  },
  {
   "cell_type": "markdown",
   "id": "633aa5e2",
   "metadata": {},
   "source": [
    "Hieronder zijn mijn contact gegevens: "
   ]
  },
  {
   "cell_type": "markdown",
   "id": "0f88a5c2",
   "metadata": {},
   "source": [
    "- **Telefoonnummer: +31687868965**\n",
    "- **Email: yasofa25@gmail.com**\n",
    "- **KvK: 91619548**"
   ]
  }
 ],
 "metadata": {
  "language_info": {
   "name": "python"
  }
 },
 "nbformat": 4,
 "nbformat_minor": 5
}
